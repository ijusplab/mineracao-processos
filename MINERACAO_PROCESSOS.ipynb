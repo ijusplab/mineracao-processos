{
  "nbformat": 4,
  "nbformat_minor": 0,
  "metadata": {
    "colab": {
      "name": "MINERACAO_PROCESSOS.ipynb",
      "private_outputs": true,
      "provenance": [],
      "collapsed_sections": [
        "4vjLq374pwVo"
      ],
      "authorship_tag": "ABX9TyMfiWyEbairKJf2CaiWrxeq",
      "include_colab_link": true
    },
    "kernelspec": {
      "name": "python3",
      "display_name": "Python 3"
    }
  },
  "cells": [
    {
      "cell_type": "markdown",
      "metadata": {
        "id": "view-in-github",
        "colab_type": "text"
      },
      "source": [
        "<a href=\"https://colab.research.google.com/github/ijusplab/mineracao-processos/blob/main/MINERACAO_PROCESSOS.ipynb\" target=\"_parent\"><img src=\"https://colab.research.google.com/assets/colab-badge.svg\" alt=\"Open In Colab\"/></a>"
      ]
    },
    {
      "cell_type": "markdown",
      "metadata": {
        "id": "ExKamrA-ZWAQ"
      },
      "source": [
        "# **Demonstração Mineração de Processos**"
      ]
    },
    {
      "cell_type": "markdown",
      "metadata": {
        "id": "kU-DUwtdlUKU"
      },
      "source": [
        "## **Instruções**"
      ]
    },
    {
      "cell_type": "markdown",
      "metadata": {
        "id": "kSPZNx8LZfpb"
      },
      "source": [
        "**INSTRUÇÕES**\n",
        "\n",
        "1) Execute a célula `CARREGAR FERRAMENTA`. \n",
        "\n",
        "2) Nos Relatórios Gerenciais PJe 1G (http://web.trf3.jus.br/relatorios-gerenciais), acesse o relatório `Relação do histórico de movimentações de processos`, escolha o órgão julgador e baixe o relatório em formato `csv`, salvando-o em uma pasta de fácil acesso no seu computador com o nome `log_eventos.csv`. \n",
        "\n",
        "3) Clique no ícone das pastinha aqui ao lado esquerdo. Você verá que uma barra lateral irá se abrir. Arraste o arquivo `log_eventos.csv` para lá para salvá-lo no Google Colab.\n",
        "\n",
        "4) Depois que o arquivo `log_eventos.csv` estiver salvo no Google Colab, execute a célula `CARREGAR RELATÓRIO GERENCIAL`. \n",
        "\n",
        "5) Execute o 3º e 4º Passos para ver o mapa de processos e o mapa social. \n"
      ]
    },
    {
      "cell_type": "markdown",
      "metadata": {
        "id": "4ES4_qUwmAVP"
      },
      "source": [
        "## **Ver Fluxo Processual**"
      ]
    },
    {
      "cell_type": "code",
      "metadata": {
        "id": "8xlQaZbTITHl",
        "cellView": "form"
      },
      "source": [
        "#@title 1º PASSO) **CARREGAR FERRAMENTA** { vertical-output: true }\n",
        "MODO_DEPURACAO = False\n",
        "\n",
        "!pip install pm4py\n",
        "\n",
        "import re, os, json, csv, pprint, math\n",
        "from google.colab import files\n",
        "import pandas as pd\n",
        "import numpy as np\n",
        "import graphviz\n",
        "import xlrd\n",
        "import pm4py\n",
        "from IPython.display import display, HTML\n",
        "\n",
        "##\n",
        "## Mensagens\n",
        "##\n",
        "\n",
        "class mensageria:\n",
        "  __END      = '\\33[0m'\n",
        "  __BOLD     = '\\33[1m'\n",
        "  __ITALIC   = '\\33[3m'\n",
        "  __URL      = '\\33[4m'\n",
        "  __BLINK    = '\\33[5m'\n",
        "  __BLINK2   = '\\33[6m'\n",
        "  __SELECTED = '\\33[7m'\n",
        "\n",
        "  __BLACK  = '\\33[30m'\n",
        "  __RED    = '\\33[31m'\n",
        "  __GREEN  = '\\33[32m'\n",
        "  __YELLOW = '\\33[33m'\n",
        "  __BLUE   = '\\33[34m'\n",
        "  __VIOLET = '\\33[35m'\n",
        "  __BEIGE  = '\\33[36m'\n",
        "  __WHITE  = '\\33[37m'\n",
        "\n",
        "  __BLACKBG  = '\\33[40m'\n",
        "  __REDBG    = '\\33[41m'\n",
        "  __GREENBG  = '\\33[42m'\n",
        "  __YELLOWBG = '\\33[43m'\n",
        "  __BLUEBG   = '\\33[44m'\n",
        "  __VIOLETBG = '\\33[45m'\n",
        "  __BEIGEBG  = '\\33[46m'\n",
        "  __WHITEBG  = '\\33[47m'\n",
        "\n",
        "  __GREY    = '\\33[90m'\n",
        "  __RED2    = '\\33[91m'\n",
        "  __GREEN2  = '\\33[92m'\n",
        "  __YELLOW2 = '\\33[93m'\n",
        "  __BLUE2   = '\\33[94m'\n",
        "  __VIOLET2 = '\\33[95m'\n",
        "  __BEIGE2  = '\\33[96m'\n",
        "  __WHITE2  = '\\33[97m'\n",
        "\n",
        "  __GREYBG    = '\\33[100m'\n",
        "  __REDBG2    = '\\33[101m'\n",
        "  __GREENBG2  = '\\33[102m'\n",
        "  __YELLOWBG2 = '\\33[103m'\n",
        "  __BLUEBG2   = '\\33[104m'\n",
        "  __VIOLETBG2 = '\\33[105m'\n",
        "  __BEIGEBG2  = '\\33[106m'\n",
        "  __WHITEBG2  = '\\33[107m'\n",
        "\n",
        "  @classmethod\n",
        "  def sucesso(cls, msg):\n",
        "    print(f'{cls.__BLUE}{cls.__BOLD}{msg}{cls.__END}')\n",
        "\n",
        "  @classmethod\n",
        "  def falha(cls, msg):\n",
        "    print(f'{cls.__REDBG}{cls.__WHITE}{msg}{cls.__END}')\n",
        "\n",
        "  @classmethod\n",
        "  def alerta(cls, msg):\n",
        "    print(f'{cls.__YELLOWBG}{msg}{cls.__END}')\n",
        "\n",
        "  @classmethod\n",
        "  def ok(cls, msg):\n",
        "    print(f'{cls.__GREEN}{cls.__BOLD}{msg}{cls.__END}')\n",
        "\n",
        "  @classmethod\n",
        "  def normal(cls, msg):\n",
        "    print(f'{cls.__BOLD}{msg}{cls.__END}')\n",
        "\n",
        "  @classmethod\n",
        "  def mostrar_objeto(cls, obj):\n",
        "    printer = pprint.PrettyPrinter(indent=4)\n",
        "    printer.pprint(obj)\n",
        "\n",
        "##\n",
        "## Extração dos dados do sharepoint\n",
        "##\n",
        "class PMTools:\n",
        "  _instance = None\n",
        "\n",
        "  def __init__(self):\n",
        "    self.__event_log = None\n",
        "    self.__social_log = None\n",
        "    self.__process_tree = None\n",
        "    self.__social_tree = None\n",
        "    self.__bpmn_model = None\n",
        "    self.__dfg = None\n",
        "    self.__dfg_social = None\n",
        "    self.__start_activities = None\n",
        "    self.__end_activities = None\n",
        "    self.__start_resources = None\n",
        "    self.__end_resources = None\n",
        "    self.__num_events = 0\n",
        "    self.__num_cases = 0\n",
        "\n",
        "  @classmethod\n",
        "  def instance(cls):\n",
        "      if cls._instance is None:\n",
        "          cls._instance = cls()\n",
        "      return cls._instance\n",
        "\n",
        "  def __to_datetime(self, xl_date_string):\n",
        "    if not isinstance(xl_date_string, str):\n",
        "      return xl_date_string\n",
        "    if not xl_date_string:\n",
        "      return xl_date_string\n",
        "    date, time = xl_date_string.split(' ')\n",
        "    date = date.split('/')[::-1]\n",
        "    date = '-'.join(date)\n",
        "    return f'{date} {time}'\n",
        "\n",
        "  def __parse_df(self, df):\n",
        "    columns = {'processo': 'case_id', 'tarefa': 'activity', 'entrada': 's_timestamp', 'saida': 'e_timestamp', 'usuario': 'resource'}\n",
        "    df.rename(columns=columns, inplace=True)\n",
        "    df['s_timestamp'] = df['s_timestamp'].apply(self.__to_datetime)\n",
        "    df['e_timestamp'] = df['e_timestamp'].apply(self.__to_datetime)\n",
        "    self.__num_events = len(df)\n",
        "    self.__num_cases = len(df.case_id.unique())\n",
        "    self.__event_log = pm4py.format_dataframe(df, case_id='case_id', activity_key='activity', timestamp_key='s_timestamp')\n",
        "    self.__social_log = pm4py.format_dataframe(df, case_id='case_id', activity_key='resource', timestamp_key='s_timestamp')\n",
        "    self.__process_tree = pm4py.discover_process_tree_inductive(self.__event_log)\n",
        "    self.__social_tree = pm4py.discover_process_tree_inductive(self.__social_log)\n",
        "    self.__bpmn_model = pm4py.convert_to_bpmn(self.__process_tree)\n",
        "    self.__dfg, self.__start_activities, self.__end_activities = pm4py.discover_dfg(self.__event_log)\n",
        "    self.__dfg_social, self.__start_resources, self.__end_resources = pm4py.discover_dfg(self.__social_log)\n",
        "\n",
        "  def load(self):\n",
        "    uploaded = files.upload()\n",
        "    arquivos = list(uploaded.keys())\n",
        "    print(arquivos)\n",
        "\n",
        "    if len(arquivos) < 0:\n",
        "      mensageria.falha('\\n>>>> Nenhum arquivo selecionado')\n",
        "      return\n",
        "\n",
        "    src = arquivos[0]\n",
        "\n",
        "    if not re.match('^.+\\.(csv)$', src):\n",
        "      os.remove(src)\n",
        "      mensageria.falha('\\n>>>> Arquivo inválido. Necessário que seja um csv')\n",
        "      return\n",
        "\n",
        "    dest = 'log_eventos.csv'\n",
        "    !rm log_eventos.csv\n",
        "    os.rename(src, dest)\n",
        "\n",
        "    df = pd.read_csv(dest, sep=';', encoding='utf-8')\n",
        "    self.__parse_df(df)\n",
        "\n",
        "  def has_event_log(self):\n",
        "    return not self.__event_log is None\n",
        "\n",
        "  def has_social_log(self):\n",
        "    return not self.__social_log is None\n",
        "\n",
        "  def has_process_tree(self):\n",
        "    return self.has_event_log() and not self.__process_tree is None\n",
        "\n",
        "  def has_social_tree(self):\n",
        "    return self.has_social_log() and not self.__social_tree is None\n",
        "\n",
        "  def has_bpmn_model(self):\n",
        "    return self.has_event_log() and not self.__bpmn_model is None\n",
        "\n",
        "  def has_dfg(self):\n",
        "    return self.has_event_log() and not self.__dfg is None and not self.__start_activities is None and not self.__end_activities is None\n",
        "\n",
        "  def has_dfg_social(self):\n",
        "    return self.has_social_log() and not self.__dfg_social is None and not self.__start_resources is None and not self.__end_resources is None\n",
        "\n",
        "  def get_event_log(self):\n",
        "    if not self.has_event_log():\n",
        "      mensageria.falha('\\n>>>> NÃO HÁ DADOS CARREGADOS')\n",
        "      return\n",
        "    return self.__event_log\n",
        "\n",
        "  def get_social_log(self):\n",
        "    if not self.has_social_log():\n",
        "      mensageria.falha('\\n>>>> NÃO HÁ DADOS CARREGADOS')\n",
        "      return\n",
        "    return self.__social_log\n",
        "\n",
        "  def get_process_tree(self):\n",
        "    if not self.has_process_tree():\n",
        "      mensageria.falha('\\n>>>> NÃO HÁ DADOS CARREGADOS')\n",
        "      return\n",
        "    return self.__process_tree\n",
        "\n",
        "  def get_social_tree(self):\n",
        "    if not self.has_social_tree():\n",
        "      mensageria.falha('\\n>>>> NÃO HÁ DADOS CARREGADOS')\n",
        "      return\n",
        "    return self.__social_tree\n",
        "\n",
        "  def get_bpmn_model(self):\n",
        "    if not self.has_bpmn_model():\n",
        "      mensageria.falha('\\n>>>> NÃO HÁ DADOS CARREGADOS')\n",
        "      return\n",
        "    return self.__bpmn_model\n",
        "\n",
        "  def get_dfg(self):\n",
        "    if not self.has_dfg():\n",
        "      mensageria.falha('\\n>>>> NÃO HÁ DADOS CARREGADOS')\n",
        "      return\n",
        "    return self.__dfg\n",
        "\n",
        "  def get_dfg_social(self):\n",
        "    if not self.has_dfg_social():\n",
        "      mensageria.falha('\\n>>>> NÃO HÁ DADOS CARREGADOS')\n",
        "      return\n",
        "    return self.__dfg_social\n",
        "\n",
        "  def get_start_activities(self):\n",
        "    if not self.has_dfg():\n",
        "      mensageria.falha('\\n>>>> NÃO HÁ DADOS CARREGADOS')\n",
        "      return\n",
        "    return self.__start_activities\n",
        "\n",
        "  def get_end_activities(self):\n",
        "    if not self.has_dfg():\n",
        "      mensageria.falha('\\n>>>> NÃO HÁ DADOS CARREGADOS')\n",
        "      return\n",
        "    return self.__end_activities\n",
        "\n",
        "  def get_start_resources(self):\n",
        "    if not self.has_dfg_social():\n",
        "      mensageria.falha('\\n>>>> NÃO HÁ DADOS CARREGADOS')\n",
        "      return\n",
        "    return self.__start_resources\n",
        "\n",
        "  def get_end_resources(self):\n",
        "    if not self.has_dfg_social():\n",
        "      mensageria.falha('\\n>>>> NÃO HÁ DADOS CARREGADOS')\n",
        "      return\n",
        "    return self.__end_resources\n",
        "\n",
        "  def inspect(self):\n",
        "    if not self.has_event_log():\n",
        "      mensageria.falha('\\n>>>> NÃO HÁ DADOS CARREGADOS')\n",
        "      return\n",
        "    print()\n",
        "    print('Número de eventos: {}\\nNúmero de processos: {}'.format(self.__num_events, self.__num_cases))\n",
        "    print()\n",
        "    display(HTML(self.__event_log.head().to_html()))\n",
        "\n",
        "  def inspect_start_end_activities(self):\n",
        "    print()\n",
        "    print(\"Atividades iniciais: {}\".format(self.get_start_activities()))\n",
        "    print()\n",
        "    print(\"Atividades finais: {}\".format(self.get_end_activities()))\n",
        "\n",
        "  def inspect_start_end_resources(self):\n",
        "    print()\n",
        "    print(\"Recursos iniciais: {}\".format(self.get_start_resources()))\n",
        "    print()\n",
        "    print(\"Recursos finais: {}\".format(self.get_end_resources()))\n",
        "\n",
        "  def discover_bpmn_model(self):\n",
        "    bpmn_model = self.get_bpmn_model()\n",
        "    pm4py.view_bpmn(bpmn_model)\n",
        "\n",
        "  def discover_process_map(self):\n",
        "    pm4py.view_dfg(self.get_dfg(), self.get_start_activities(), self.get_end_activities())\n",
        "\n",
        "  def discover_social_map(self):\n",
        "    pm4py.view_dfg(self.get_dfg_social(), self.get_start_resources(), self.get_end_resources())\n",
        "\n",
        "print()\n",
        "mensageria.sucesso('\\n>>>> Ferramentas carregadas com sucesso!')"
      ],
      "execution_count": null,
      "outputs": []
    },
    {
      "cell_type": "code",
      "metadata": {
        "id": "bNdsNidKZQEP",
        "cellView": "form"
      },
      "source": [
        "#@title 2º PASSO) **CARREGAR DADOS** { vertical-output: true }\n",
        "\n",
        "##\n",
        "## Instanciação\n",
        "##\n",
        "pm_tools = PMTools.instance()\n",
        "pm_tools.load()\n",
        "pm_tools.inspect()\n",
        "pm_tools.inspect_start_end_activities()\n",
        "pm_tools.inspect_start_end_resources()\n"
      ],
      "execution_count": null,
      "outputs": []
    },
    {
      "cell_type": "code",
      "metadata": {
        "id": "rO1gHpursNoB",
        "cellView": "form"
      },
      "source": [
        "#@title 3º PASSO) **MOSTRAR MAPA DE PROCESSO**\n",
        "\n",
        "pm_tools.discover_process_map()"
      ],
      "execution_count": null,
      "outputs": []
    },
    {
      "cell_type": "code",
      "metadata": {
        "id": "SgoheldOsChG",
        "cellView": "form"
      },
      "source": [
        "#@title 4º PASSO) **MOSTRAR MAPA SOCIAL**\n",
        "\n",
        "pm_tools.discover_social_map()"
      ],
      "execution_count": null,
      "outputs": []
    },
    {
      "cell_type": "markdown",
      "metadata": {
        "id": "4vjLq374pwVo"
      },
      "source": [
        "# **Avançado**"
      ]
    },
    {
      "cell_type": "code",
      "metadata": {
        "id": "u1fdKyK7MRdL"
      },
      "source": [
        "#@title **MOSTRAR BPMN**\n",
        "\n",
        "pm_tools.discover_bpmn_model()"
      ],
      "execution_count": null,
      "outputs": []
    },
    {
      "cell_type": "markdown",
      "source": [
        "# **MiniConf**"
      ],
      "metadata": {
        "id": "6f75CMi3BDy0"
      }
    },
    {
      "cell_type": "code",
      "source": [
        "!pip install pm4py\n",
        "\n",
        "import pandas as pd\n",
        "import numpy as np\n",
        "import graphviz\n",
        "import pm4py\n",
        "\n",
        "from IPython.display import display, HTML, SVG"
      ],
      "metadata": {
        "id": "ivuUQm5gBLXU"
      },
      "execution_count": null,
      "outputs": []
    },
    {
      "cell_type": "code",
      "source": [
        "def to_datetime(date_string):\n",
        "  if not isinstance(date_string, str):\n",
        "    return date_string\n",
        "  if not date_string:\n",
        "    return date_string\n",
        "  date, time = date_string.split(' ')\n",
        "  date = date.split('/')[::-1]\n",
        "  date = '-'.join(date)\n",
        "  return f'{date} {time}'\n",
        "\n",
        "df_tarefas = pd.read_csv(\"Log_Eventos_tarefas.csv\", sep=';', encoding='utf-8')\n",
        "df_tarefas['timestamp'] = df_tarefas['timestamp'].apply(to_datetime)\n",
        "df_tarefas['out'] = df_tarefas['out'].apply(to_datetime)\n",
        "log_tarefas = pm4py.format_dataframe(df_tarefas, case_id='case_id', activity_key='activity', timestamp_key='timestamp')\n",
        "sn_tarefas = pm4py.format_dataframe(df_tarefas, case_id='case_id', activity_key='resource', timestamp_key='timestamp')\n",
        "\n",
        "\n",
        "print('*** Analisando o log de tarefas...')\n",
        "print()\n",
        "print(f'Número de processos: {len(df_tarefas.case_id.unique())}')\n",
        "print(f'Número de tarefas: {len(df_tarefas)}')\n",
        "display(HTML(log_tarefas.head().to_html()))\n",
        "\n",
        "df_movimentos = pd.read_csv(\"Log_Eventos_movimentos.csv\", sep=';', encoding='utf-8')\n",
        "df_movimentos['in'] = df_movimentos['timestamp'].apply(to_datetime)\n",
        "log_movimentos = pm4py.format_dataframe(df_movimentos, case_id='case_id', activity_key='activity', timestamp_key='timestamp')\n",
        "\n",
        "print()\n",
        "print('*** Analisando o log de movimentos...')\n",
        "print()\n",
        "print(f'Número de processos: {len(df_movimentos.case_id.unique())}')\n",
        "print(f'Número de movimentos: {len(df_movimentos)}')\n",
        "display(HTML(log_movimentos.head().to_html()))\n"
      ],
      "metadata": {
        "id": "Yxx6tWqHC7WX"
      },
      "execution_count": null,
      "outputs": []
    },
    {
      "cell_type": "code",
      "source": [
        "print('Mapa das tarefas...')\n",
        "dfg_tarefas, start_tarefas, end_tarefas = pm4py.discover_dfg(log_tarefas)\n",
        "pm4py.view_dfg(dfg_tarefas, start_tarefas, end_tarefas)"
      ],
      "metadata": {
        "id": "aJN8e5dCIFbf"
      },
      "execution_count": null,
      "outputs": []
    },
    {
      "cell_type": "code",
      "source": [
        "from pm4py.objects.conversion.log import converter as log_converter\n",
        "from pm4py.statistics.traces.generic.log import case_statistics\n",
        "from pm4py.statistics.traces.generic.log import case_arrival\n",
        "from pm4py.statistics.sojourn_time.log import get as soj_time_get\n",
        "from pm4py.statistics.concurrent_activities.log import get as conc_act_get\n",
        "import json \n",
        "from functools import reduce\n",
        "\n",
        "def seconds_to_days(seconds):\n",
        "  return seconds / (60 * 60 * 24)\n",
        "\n",
        "print('Estatísticas tarefas...')\n",
        "\n",
        "all_case_durations = case_statistics.get_all_case_durations(log_converter.apply(log_tarefas, variant=log_converter.Variants.TO_EVENT_LOG), parameters={case_statistics.Parameters.TIMESTAMP_KEY: 'time:timestamp'})\n",
        "all_case_durations = [ seconds_to_days(x) for x in all_case_durations ]\n",
        "\n",
        "median_case_duration = case_statistics.get_median_caseduration(log_converter.apply(log_tarefas, variant=log_converter.Variants.TO_EVENT_LOG), parameters={case_statistics.Parameters.TIMESTAMP_KEY: \"time:timestamp\"})\n",
        "median_case_duration = seconds_to_days(median_case_duration)\n",
        "\n",
        "average_case_duration = sum(all_case_durations) / len(all_case_durations)\n",
        "\n",
        "soj_time = soj_time_get.apply(log_tarefas, parameters={soj_time_get.Parameters.TIMESTAMP_KEY: \"time:timestamp\", soj_time_get.Parameters.START_TIMESTAMP_KEY: \"start_timestamp\"})\n",
        "\n",
        "conc_act = conc_act_get.apply(log_tarefas, parameters={conc_act_get.Parameters.TIMESTAMP_KEY: \"time:timestamp\", conc_act_get.Parameters.START_TIMESTAMP_KEY: \"start_timestamp\"})\n",
        "\n",
        "print(f'Duração total: {all_case_durations}')\n",
        "print(f'Duração média: {average_case_duration}')\n",
        "print(f'Duração mediana: {median_case_duration}')\n",
        "print('Tempo de permanência:')\n",
        "print(json.dumps(soj_time, indent=2))\n",
        "print('Atividades concorrentes:')\n",
        "for key, value in conc_act:\n",
        "  print(key, '->', value)\n",
        "\n"
      ],
      "metadata": {
        "id": "ZALgcJU2O6CB"
      },
      "execution_count": null,
      "outputs": []
    },
    {
      "cell_type": "code",
      "source": [
        "print('Gráficos')\n",
        "print()\n",
        "print('Events distribution')\n",
        "pm4py.view_events_distribution_graph(log_tarefas, distr_type=\"days_week\", format=\"png\")"
      ],
      "metadata": {
        "id": "cAmcYyBgUoDy"
      },
      "execution_count": null,
      "outputs": []
    },
    {
      "cell_type": "code",
      "source": [
        "print('Rede social tarefas...')\n",
        "dfg_sn_tarefas, start_sn_tarefas, end_sn_tarefas = pm4py.discover_dfg(sn_tarefas)\n",
        "pm4py.view_dfg(dfg_sn_tarefas, start_sn_tarefas, end_sn_tarefas)"
      ],
      "metadata": {
        "id": "tI91U30LLkbZ"
      },
      "execution_count": null,
      "outputs": []
    },
    {
      "cell_type": "code",
      "source": [
        "print('BPMN \"real\" das tarefas...')\n",
        "arvore_tarefas = pm4py.discover_process_tree_inductive(log_tarefas)\n",
        "bpmn_model = pm4py.convert_to_bpmn(arvore_tarefas)\n",
        "pm4py.view_bpmn(bpmn_model)\n"
      ],
      "metadata": {
        "id": "Z_MXatezMBpc"
      },
      "execution_count": null,
      "outputs": []
    },
    {
      "cell_type": "code",
      "source": [
        "print('Exportando para o Bizagi...')\n",
        "pm4py.write_bpmn(bpmn_model, 'tarefas.bpmn', enable_layout=True)\n"
      ],
      "metadata": {
        "id": "knUfCFZyNBXD"
      },
      "execution_count": null,
      "outputs": []
    },
    {
      "cell_type": "code",
      "source": [
        "print('Mapa das movimentos...')\n",
        "dfg_movimentos, start_movimentos, end_movimentos = pm4py.discover_dfg(log_movimentos)\n",
        "pm4py.view_dfg(dfg_movimentos, start_movimentos, end_movimentos)"
      ],
      "metadata": {
        "id": "Bzgha94MNsQD"
      },
      "execution_count": null,
      "outputs": []
    }
  ]
}